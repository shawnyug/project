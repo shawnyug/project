{
 "cells": [
  {
   "cell_type": "code",
   "execution_count": null,
   "metadata": {},
   "outputs": [],
   "source": [
    "import pandas as pd\n",
    "import numpy as np\n",
    "import anndata\n",
    "import scanpy as sc\n",
    "import scipy\n",
    "\n",
    "from sklearn.neighbors import KNeighborsClassifier\n",
    "from sklearn.preprocessing import LabelEncoder\n",
    "from sklearn.datasets import make_classification\n",
    "\n",
    "import matplotlib.pyplot as plt\n",
    "\n",
    "sc.set_figure_params(dpi=300, dpi_save=300, frameon=True, vector_friendly=True, fontsize=6, \n",
    "figsize=None, color_map=None, format='pdf', facecolor=None, transparent=False, ipython_format='png2x')"
   ]
  },
  {
   "cell_type": "markdown",
   "metadata": {},
   "source": [
    "### Read data from our model, scSpace and CeLEry"
   ]
  },
  {
   "cell_type": "code",
   "execution_count": null,
   "metadata": {},
   "outputs": [],
   "source": [
    "our_spatial = sc.read_h5ad(\"ST_recovery_cortexMB.h5ad\")\n",
    "our_seq = sc.read_h5ad(\"SC_recovery_cortexMB.h5ad\")\n",
    "\n",
    "# our_spatial = sc.read_h5ad(\"ST_recovery_ME.h5ad\")\n",
    "# our_seq = sc.read_h5ad(\"SC_recovery_ME.h5ad\")"
   ]
  },
  {
   "cell_type": "code",
   "execution_count": null,
   "metadata": {},
   "outputs": [],
   "source": [
    "scSpace_STpos = np.load(\"../scSpace/scSpace-master/scSpace_infer_STpos.npy\")\n",
    "scSpace_SCpos = np.load(\"../scSpace/scSpace-master/scSpace_infer_SCpos.npy\")\n",
    "\n",
    "# scSpace_STpos = np.load(\"../scSpace/scSpace-master/scSpace_inferME_STpos.npy\")\n",
    "# scSpace_SCpos = np.load(\"../scSpace/scSpace-master/scSpace_inferME_SCpos.npy\")"
   ]
  },
  {
   "cell_type": "code",
   "execution_count": null,
   "metadata": {},
   "outputs": [],
   "source": [
    "CeLEry_MB_SC = sc.read_h5ad(\"../CeLEry_2D/CeLEry-main/CeLEry_package/CeLEry_MB_SC.h5ad\")\n",
    "CeLEry_MB_ST = sc.read_h5ad(\"../CeLEry_2D/CeLEry-main/CeLEry_package/CeLEry_MB_ST.h5ad\")\n",
    "\n",
    "# CeLEry_ME_SC = sc.read_h5ad(\"../CeLEry_2D/CeLEry-main/CeLEry_package/CeLEry_ME_SC.h5ad\")\n",
    "# CeLEry_ME_ST = sc.read_h5ad(\"../CeLEry_2D/CeLEry-main/CeLEry_package/CeLEry_ME_ST.h5ad\")"
   ]
  },
  {
   "cell_type": "code",
   "execution_count": null,
   "metadata": {},
   "outputs": [],
   "source": [
    "CeLEry_MB_SC.obsm[\"scale_infer_spatial\"]"
   ]
  },
  {
   "cell_type": "code",
   "execution_count": null,
   "metadata": {},
   "outputs": [],
   "source": [
    "CeLEry_ME_SC"
   ]
  },
  {
   "cell_type": "code",
   "execution_count": null,
   "metadata": {},
   "outputs": [],
   "source": [
    "CeLEry_ME_ST"
   ]
  },
  {
   "cell_type": "code",
   "execution_count": null,
   "metadata": {},
   "outputs": [],
   "source": [
    "scSpace_STpos"
   ]
  },
  {
   "cell_type": "code",
   "execution_count": null,
   "metadata": {},
   "outputs": [],
   "source": [
    "#sc.pl.spatial(scSpace_seq, color=\"CTX.subclass_id.1\", spot_size=0.05, title=\"Mouse brain spatial celltype\") \n",
    "#sc.pl.spatial(scSpace_seq, color=\"celltype_mapped_refined\", spot_size=0.05, title=\"Mouse brain spatial celltype\") "
   ]
  },
  {
   "cell_type": "code",
   "execution_count": null,
   "metadata": {},
   "outputs": [],
   "source": [
    "#sc.pl.spatial(our_spatial, color=\"CTX.subclass_id.1\", spot_size=0.05, title=\"Mouse brain spatial celltype\")\n",
    "sc.pl.spatial(our_spatial, color=\"celltype_mapped_refined\", spot_size=0.05, title=\"Mouse brain spatial celltype\")"
   ]
  },
  {
   "cell_type": "code",
   "execution_count": null,
   "metadata": {},
   "outputs": [],
   "source": [
    "our_spatial"
   ]
  },
  {
   "cell_type": "code",
   "execution_count": null,
   "metadata": {},
   "outputs": [],
   "source": [
    "our_seq"
   ]
  },
  {
   "cell_type": "markdown",
   "metadata": {},
   "source": [
    "### For every given cell, calculate the KNN spots that belong to the same cell-type as the cell"
   ]
  },
  {
   "cell_type": "code",
   "execution_count": null,
   "metadata": {},
   "outputs": [],
   "source": [
    "#here we only select the shared common celltype for both scRNA-seq and ST\n",
    "sc_change = {'CA3-do': \"CA3\", 'CA3-ve': \"CA3\"}\n",
    "our_seq.obs[\"celltype\"] = our_seq.obs[\"celltype\"].replace(sc_change)\n",
    "common_celltype = set(our_spatial.obs[\"CTX.subclass_id.1\"]).intersection(set(our_seq.obs[\"celltype\"]))\n",
    "\n",
    "# st_change = {'Presomitic mesoderm': \"Somitic mesoderm\", 'Splanchnic mesoderm': \"Pharyngeal mesoderm\", 'Definitive endoderm': 'Def. endoderm',\n",
    "#             'Gut tube': \"Gut\", 'Mixed mesenchymal mesoderm': \"Mesenchyme\"}\n",
    "\n",
    "# our_spatial.obs[\"celltype_mapped_refined\"] = our_spatial.obs[\"celltype_mapped_refined\"].replace(st_change)\n",
    "\n",
    "# sc_change = {'Blood progenitors 1': \"Blood progenitors\", 'Blood progenitors 2': \"Blood progenitors\", \n",
    "#              'Erythroid1': 'Erythroid', 'Erythroid2':'Erythroid', 'Erythroid3': 'Erythroid' }\n",
    "# our_seq.obs[\"celltype\"] = our_seq.obs[\"celltype\"].replace(sc_change)\n",
    "\n",
    "# common_celltype = set(our_spatial.obs[\"celltype_mapped_refined\"]).intersection(set(our_seq.obs[\"celltype\"]))\n",
    "\n",
    "def get_purity_inST(pos_sc, pos_st, sc_celltype, st_celltype, knn_list=[5, 10, 20, 50]):\n",
    "\n",
    "    obsm_spatial = np.concatenate([pos_sc, pos_st])\n",
    "    adata_pos = anndata.AnnData(obsm_spatial)\n",
    "\n",
    "    adata_pos.obs[\"celltype\"] = np.concatenate([sc_celltype, st_celltype])\n",
    "    adata_pos.obs['celltype'] = pd.Categorical(adata_pos.obs['celltype'])\n",
    "    adata_pos.obs[\"modal\"] = ([\"seq\"] * pos_sc.shape[0]) + ([\"spatial\"] * pos_st.shape[0])\n",
    "\n",
    "    # Convert discrete labels to numerical labels\n",
    "    label_encoder = LabelEncoder()\n",
    "    #y = label_encoder.fit_transform(adata_concat_envi.obs['celltype'])\n",
    "    y = label_encoder.fit_transform(adata_pos.obs['celltype'])\n",
    "\n",
    "    adata_pos.obs[\"celltype_label\"] = y\n",
    "\n",
    "    adata_pos_st = adata_pos[adata_pos.obs['modal']=='spatial',:]\n",
    "    adata_pos_sc = adata_pos[adata_pos.obs['modal']=='seq',:]\n",
    "\n",
    "    for k in knn_list:\n",
    "\n",
    "        # Initialize the KNeighborsClassifier\n",
    "        knn = KNeighborsClassifier(n_neighbors=k) # default: euclidian\n",
    "\n",
    "        # Fit the model (using the same data here for simplicity)\n",
    "        knn.fit(adata_pos_st.X, adata_pos_st.obs['celltype_label'])\n",
    "\n",
    "        # Find the k-neighbors for every single cell in scRNA-seq\n",
    "        distances, indices = knn.kneighbors(adata_pos_sc.X)\n",
    "\n",
    "        # Calculate the proportion of neighbors in ST belonging to the same celltype for each cell\n",
    "        proportions = []\n",
    "        celltype_label_ST = adata_pos_st.obs[\"celltype_label\"]\n",
    "        celltype_label_SC = adata_pos_sc.obs[\"celltype_label\"]\n",
    "\n",
    "        for i in range(len(adata_pos_sc.X)):\n",
    "            # Get the labels of the k-neighbors\n",
    "            neighbor_labels = celltype_label_ST.iloc[indices[i]]\n",
    "            # Calculate the proportion of neighbors with the same class as the sample\n",
    "            proportion = np.sum(neighbor_labels == celltype_label_SC.iloc[i]) / k\n",
    "            proportions.append(proportion)\n",
    "\n",
    "        label = \"KNN_{}_fraction_inST\".format(k)\n",
    "        adata_pos_sc.obs[label] = proportions\n",
    "\n",
    "    return adata_pos_sc, adata_pos_st"
   ]
  },
  {
   "cell_type": "code",
   "execution_count": null,
   "metadata": {},
   "outputs": [],
   "source": [
    "np.unique(our_seq.obs['celltype'])"
   ]
  },
  {
   "cell_type": "code",
   "execution_count": null,
   "metadata": {},
   "outputs": [],
   "source": [
    "adata_pos_sc, adata_pos_st = get_purity_inST(our_seq.obsm[\"spatial\"], our_spatial.obsm[\"raw_spatial\"],our_seq.obs[\"celltype\"], our_spatial.obs[\"CTX.subclass_id.1\"])\n",
    "#adata_pos_sc, adata_pos_st = get_purity_inST(scSpace_SCpos, our_spatial.obsm[\"raw_spatial\"],our_seq.obs[\"celltype\"], our_spatial.obs[\"CTX.subclass_id.1\"])\n",
    "\n",
    "#adata_pos_sc, adata_pos_st = get_purity_inST(our_seq.obsm[\"spatial\"], our_spatial.obsm[\"raw_spatial\"],our_seq.obs[\"celltype\"], our_spatial.obs[\"celltype_mapped_refined\"])\n",
    "#adata_pos_sc, adata_pos_st = get_purity_inST(scSpace_SCpos, our_spatial.obsm[\"raw_spatial\"],our_seq.obs[\"celltype\"], our_spatial.obs[\"celltype_mapped_refined\"])\n",
    "#adata_pos_sc, adata_pos_st = get_purity_inST(CeLEry_ME_SC.obsm[\"scale_infer_spatial\"], our_spatial.obsm[\"raw_spatial\"],our_seq.obs[\"celltype\"], our_spatial.obs[\"celltype_mapped_refined\"])\n",
    "\n",
    "method = \"our\""
   ]
  },
  {
   "cell_type": "code",
   "execution_count": null,
   "metadata": {},
   "outputs": [],
   "source": [
    "_palette = {'CA1-ProS': '#1CE6FF',\n",
    " 'CA3': '#FF34FF',\n",
    " 'CA3-do': '#FF4A46',\n",
    " 'CA3-ve': '#008941',\n",
    " 'DG': '#006FA6',\n",
    " 'L2 IT ENTl': '#A30059',\n",
    " 'L2/3 IT CTX': '#FFDBE5',\n",
    " 'L4/5 IT CTX': '#7A4900',\n",
    " 'L5 IT CTX': '#0000A6',\n",
    " 'L6 CT CTX': '#63FFAC',\n",
    " 'L6b ENT': '#B79762'}\n",
    "\n",
    "# _palette = {'Allantois': '#1CE6FF',\n",
    "# 'Anterior somitic tissues': '#FF34FF',\n",
    "# 'Blood progenitors': '#FF4A46',\n",
    "# 'Cardiomyocytes': '#008941',\n",
    "# 'Caudal Mesoderm': '#006FA6',\n",
    "# 'Cranial mesoderm': '#A30059',\n",
    "# 'Def. endoderm': '#FFDBE5',\n",
    "# 'Dermomyotome': '#7A4900',\n",
    "# 'Endothelium': '#0000A6',\n",
    "# 'Erythroid': '#63FFAC',\n",
    "# 'ExE endoderm': '#B79762',\n",
    "# 'ExE mesoderm': '#004D43',\n",
    "# 'Forebrain/Midbrain/Hindbrain': '#8FB0FF',\n",
    "# 'Gut': '#997D87',\n",
    "# 'Haematoendothelial progenitors': '#5A0007',\n",
    "# 'Intermediate mesoderm': '#809693',\n",
    "# 'Lateral plate mesoderm': '#6A3A4C',\n",
    "# 'Low quality': '#1B4400',\n",
    "# 'Mesenchyme': '#4FC601',\n",
    "# 'NMP': '#3B5DFF',\n",
    "# 'Neural crest': '#4A3B53',\n",
    "# 'Notochord': '#FF2F80',\n",
    "# 'PGC': '#61615A',\n",
    "# 'Paraxial mesoderm': '#BA0900',\n",
    "# 'Pharyngeal mesoderm': '#6B7900',\n",
    "# 'Rostral neurectoderm': '#00C2A0',\n",
    "# 'Sclerotome': '#FFAA92',\n",
    "# 'Somitic mesoderm': '#FF90C9',\n",
    "# 'Spinal cord': '#B903AA',\n",
    "# 'Surface ectoderm': '#D16100',\n",
    "# 'Visceral endoderm': '#DDEFFF'}"
   ]
  },
  {
   "cell_type": "code",
   "execution_count": null,
   "metadata": {},
   "outputs": [],
   "source": [
    "from matplotlib import cm, colors\n",
    "import seaborn as sns\n",
    "import matplotlib.pyplot as plt\n",
    "import matplotlib as mpl\n",
    "import matplotlib.font_manager # to solve: Font family ['sans-serif'] not found. Falling back to DejaVu Sans.\n",
    "import json\n",
    "\n",
    "centimeter = 1/2.54  # centimeter in inches\n",
    "\n",
    "# https://www.geeksforgeeks.org/react-js-blueprint-colors-qualitative-color-schemes/\n",
    "react_cols_10 = ['#147EB3','#29A634','#D1980B','#D33D17','#9D3F9D','#00A396','#DB2C6F','#8EB125','#946638','#7961DB']\n",
    "\n",
    "# http://tsitsul.in/blog/coloropt/\n",
    "norm_7 = ['#4053d3','#ddb310','#b51d14','#00beff','#fb49b0','#00b25d','#cacaca']\n",
    "norm_12 = ['#ebac23','#b80058','#008cf9','#006e00','#00bbad','#d163e6','#b24502',\n",
    "           '#ff9287','#5954d6','#00c6f8','#878500','#00a76c','#bdbdbd']\n",
    "\n",
    "def config_rc(dpi=400, font_size=6, lw=1.):\n",
    "    # matplotlib.rcParams.keys()\n",
    "    rc={\n",
    "        'font.size': font_size, \n",
    "        'axes.labelsize': font_size, \n",
    "        'axes.titlesize': font_size, \n",
    "        'xtick.labelsize': font_size, \n",
    "        'ytick.labelsize': font_size,\n",
    "        'figure.dpi':dpi,'axes.linewidth':lw,\n",
    "        'legend.markerscale': 0.8, \n",
    "        'legend.markerscale': 0.8, \n",
    "        'legend.loc': 'upper right',\n",
    "        'legend.borderpad':0.2,\n",
    "        'legend.columnspacing': 0.5,\n",
    "        'legend.labelspacing': 0.2,\n",
    "        'legend.handletextpad': 0.1,\n",
    "        'legend.borderaxespad': 0.1,\n",
    "        'legend.handleheight': 1.0,\n",
    "        'legend.handlelength': 1.0,\n",
    "    } # 'figure.figsize':(11.7/1.5,8.27/1.5)\n",
    "    \n",
    "    sns.set(style='ticks',rc=rc) \n",
    "    sns.set_context(\"paper\")\n",
    "\n",
    "    mpl.rcParams.update(rc)\n",
    "\n",
    "    mpl.rcParams['pdf.fonttype'] = 42\n",
    "    mpl.rcParams['ps.fonttype'] = 42\n",
    "\n",
    "    #mpl.rcParams['font.sans-serif'] = \"Arial\"\n",
    "    mpl.rcParams['font.family'] = \"sans-serif\"\n",
    "    mpl.rcParams['axes.unicode_minus']=False # negative minus sign"
   ]
  },
  {
   "cell_type": "code",
   "execution_count": null,
   "metadata": {},
   "outputs": [],
   "source": [
    "df = adata_pos_sc.obs\n",
    "subset_df = df[df['celltype'].isin(common_celltype)]\n",
    "subset_df = subset_df.reset_index(drop=True)\n",
    "categories_to_remove = set(adata_pos_sc.obs[\"celltype\"]) - common_celltype\n",
    "subset_df['celltype'] = subset_df['celltype'].cat.remove_categories(list(categories_to_remove))\n",
    "ground_truth = (adata_pos_st.obs['celltype'].value_counts()/len(adata_pos_st)).to_dict()\n",
    "\n",
    "config_rc(dpi=300, font_size=6, lw=1.)\n",
    "\n",
    "for k in [5, 10, 20, 50]:\n",
    "\n",
    "    fig, ax = plt.subplots(figsize=(8*centimeter, 3*centimeter))\n",
    "\n",
    "    sns.boxplot(x='celltype', y='KNN_{}_fraction_inST'.format(k), data=subset_df, ax=ax, palette=_palette, dodge=False, width=0.5, showfliers=False)\n",
    "    ax.set_xticklabels(ax.get_xticklabels(), rotation=30, ha='right')\n",
    "\n",
    "    ordered_celltype = subset_df['celltype'].cat.categories.values\n",
    "\n",
    "    for celltype in ordered_celltype:\n",
    "        ax.scatter([celltype], [ground_truth[celltype]], s=3, marker=\"^\", color=\"r\") #, edgecolors=\"black\"\n",
    "\n",
    "    #fig.savefig(\"plots/{}_sc_recovery_boxplt_ME.pdf\".format(method), bbox_inches='tight', format='pdf', dpi=300)"
   ]
  },
  {
   "cell_type": "code",
   "execution_count": null,
   "metadata": {},
   "outputs": [],
   "source": [
    "subset_df.groupby([\"celltype\"]).mean(numeric_only=True)\n"
   ]
  },
  {
   "cell_type": "code",
   "execution_count": null,
   "metadata": {},
   "outputs": [],
   "source": [
    "df_scspace = subset_df"
   ]
  },
  {
   "cell_type": "code",
   "execution_count": null,
   "metadata": {},
   "outputs": [],
   "source": [
    "subset_df[['KNN_5_fraction_inST', 'KNN_10_fraction_inST', 'KNN_20_fraction_inST', 'KNN_50_fraction_inST']].mean()"
   ]
  },
  {
   "cell_type": "code",
   "execution_count": null,
   "metadata": {},
   "outputs": [],
   "source": [
    "import scipy.stats as stats\n",
    "for i in ['KNN_5_fraction_inST', 'KNN_10_fraction_inST', 'KNN_20_fraction_inST', 'KNN_50_fraction_inST']:\n",
    "    ## perform U test between our RMSE and other methods:\n",
    "    print(\"running {}\",i)\n",
    "    #print(stats.mannwhitneyu(df_our[i], df_celery[i]))\n",
    "    print(stats.mannwhitneyu(df_our[i], df_scspace[i]))"
   ]
  },
  {
   "cell_type": "code",
   "execution_count": null,
   "metadata": {},
   "outputs": [],
   "source": []
  },
  {
   "cell_type": "code",
   "execution_count": null,
   "metadata": {},
   "outputs": [],
   "source": []
  },
  {
   "cell_type": "code",
   "execution_count": null,
   "metadata": {},
   "outputs": [],
   "source": [
    "our_spatial"
   ]
  },
  {
   "cell_type": "code",
   "execution_count": null,
   "metadata": {},
   "outputs": [],
   "source": [
    "# our_spatial.obsm['spatial'] = scSpace_STpos\n",
    "# our_seq.obsm['spatial'] = scSpace_SCpos\n",
    "\n",
    "#method = \"CeLEry\"\n",
    "our_spatial.obsm['spatial'] = CeLEry_ME_ST.obsm[\"scale_infer_spatial\"]\n",
    "our_seq.obsm['spatial'] = CeLEry_ME_SC.obsm[\"spatial\"]"
   ]
  },
  {
   "cell_type": "code",
   "execution_count": null,
   "metadata": {},
   "outputs": [],
   "source": [
    "fig = plt.figure(figsize=(4*centimeter, 4*centimeter), dpi=300)\n",
    "ax = plt.subplot(aspect = 'equal')\n",
    "#sc.pl.spatial(our_spatial, color=\"CTX.subclass_id.1\", palette=_palette, spot_size=0.05, legend_loc=None, ax=ax, title=\"Infered psudo-space for ST\")\n",
    "#sc.pl.spatial(our_spatial, color=\"CTX.subclass_id.1\", palette=_palette, spot_size=0.01, legend_loc=None, ax=ax, title=\"Infered psudo-space for ST\")\n",
    "\n",
    "sc.pl.spatial(our_spatial, color=\"celltype_mapped_refined\", palette=_palette, spot_size=0.05, legend_loc=None, ax=ax, title=\"Infered psudo-space for ST\")\n",
    "\n",
    "\n",
    "fig.savefig(\"plots/{}_ME_spatialMap_STinfer.pdf\".format(method), bbox_inches='tight', format='pdf', dpi=300)"
   ]
  },
  {
   "cell_type": "code",
   "execution_count": null,
   "metadata": {},
   "outputs": [],
   "source": [
    "fig = plt.figure(figsize=(4*centimeter, 4*centimeter), dpi=300)\n",
    "ax = plt.subplot(aspect = 'equal')\n",
    "sc.pl.spatial(our_seq, color=\"celltype\",palette=_palette, spot_size=0.05, legend_loc=None, title=\"Infered psudo-space for SC\", ax=ax)  #\n",
    "\n",
    "fig.savefig(\"plots/{}_ME_spatialMap_SCinfer.pdf\".format(method), bbox_inches='tight', format='pdf', dpi=300)"
   ]
  }
 ],
 "metadata": {
  "kernelspec": {
   "display_name": "scvi",
   "language": "python",
   "name": "python3"
  },
  "language_info": {
   "codemirror_mode": {
    "name": "ipython",
    "version": 3
   },
   "file_extension": ".py",
   "mimetype": "text/x-python",
   "name": "python",
   "nbconvert_exporter": "python",
   "pygments_lexer": "ipython3",
   "version": "3.9.18"
  }
 },
 "nbformat": 4,
 "nbformat_minor": 2
}
